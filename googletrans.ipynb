{
 "cells": [
  {
   "cell_type": "code",
   "execution_count": null,
   "id": "1a3b5a56",
   "metadata": {},
   "outputs": [],
   "source": [
    "!pip install googletrans==3.1.0a0\n",
    "pip install pandas"
   ]
  },
  {
   "cell_type": "code",
   "execution_count": null,
   "id": "3c7b6e0a",
   "metadata": {},
   "outputs": [],
   "source": []
  },
  {
   "cell_type": "code",
   "execution_count": 1,
   "id": "3f7958f0",
   "metadata": {},
   "outputs": [],
   "source": [
    "# Importing the necessary libraries\n",
    "import pandas as pd\n",
    "import googletrans\n",
    "from googletrans import Translator"
   ]
  },
  {
   "cell_type": "code",
   "execution_count": 2,
   "id": "2dc36a98",
   "metadata": {},
   "outputs": [],
   "source": [
    "\n",
    "import pandas as pd\n",
    "import googletrans\n",
    "from googletrans import Translator\n",
    "\n",
    "lang = googletrans.LANGUAGES\n",
    "\n",
    "# Creating an instance\n",
    "translator = Translator()\n",
    "\n",
    "translator.translate('This is so nice!', src='en', dest='mr').text"
   ]
  },
  {
   "cell_type": "code",
   "execution_count": 4,
   "id": "f3e2bad7",
   "metadata": {},
   "outputs": [
    {
     "data": {
      "text/html": [
       "<div>\n",
       "<style scoped>\n",
       "    .dataframe tbody tr th:only-of-type {\n",
       "        vertical-align: middle;\n",
       "    }\n",
       "\n",
       "    .dataframe tbody tr th {\n",
       "        vertical-align: top;\n",
       "    }\n",
       "\n",
       "    .dataframe thead th {\n",
       "        text-align: right;\n",
       "    }\n",
       "</style>\n",
       "<table border=\"1\" class=\"dataframe\">\n",
       "  <thead>\n",
       "    <tr style=\"text-align: right;\">\n",
       "      <th></th>\n",
       "      <th>ShortName</th>\n",
       "      <th>LanguageName</th>\n",
       "    </tr>\n",
       "  </thead>\n",
       "  <tbody>\n",
       "    <tr>\n",
       "      <th>0</th>\n",
       "      <td>af</td>\n",
       "      <td>afrikaans</td>\n",
       "    </tr>\n",
       "    <tr>\n",
       "      <th>1</th>\n",
       "      <td>sq</td>\n",
       "      <td>albanian</td>\n",
       "    </tr>\n",
       "    <tr>\n",
       "      <th>2</th>\n",
       "      <td>am</td>\n",
       "      <td>amharic</td>\n",
       "    </tr>\n",
       "    <tr>\n",
       "      <th>3</th>\n",
       "      <td>ar</td>\n",
       "      <td>arabic</td>\n",
       "    </tr>\n",
       "    <tr>\n",
       "      <th>4</th>\n",
       "      <td>hy</td>\n",
       "      <td>armenian</td>\n",
       "    </tr>\n",
       "  </tbody>\n",
       "</table>\n",
       "</div>"
      ],
      "text/plain": [
       "  ShortName LanguageName\n",
       "0        af    afrikaans\n",
       "1        sq     albanian\n",
       "2        am      amharic\n",
       "3        ar       arabic\n",
       "4        hy     armenian"
      ]
     },
     "execution_count": 4,
     "metadata": {},
     "output_type": "execute_result"
    }
   ],
   "source": [
    "langData = pd.DataFrame(list(lang.keys()), columns=[\"ShortName\"])\n",
    "langData['LanguageName'] = langData['ShortName'].apply(lambda x: lang[x])\n",
    "langData.head()"
   ]
  },
  {
   "cell_type": "code",
   "execution_count": 46,
   "id": "50fd8838",
   "metadata": {},
   "outputs": [],
   "source": [
    "laShort = [(i) for i,j in lang.items()]\n",
    "laFull = [(j) for i,j in lang.items()]"
   ]
  },
  {
   "cell_type": "code",
   "execution_count": 48,
   "id": "505cda4d",
   "metadata": {},
   "outputs": [
    {
     "data": {
      "text/plain": [
       "38"
      ]
     },
     "execution_count": 48,
     "metadata": {},
     "output_type": "execute_result"
    }
   ],
   "source": [
    "laShort[laFull.index('hindi')]"
   ]
  },
  {
   "cell_type": "code",
   "execution_count": 53,
   "id": "04524d3e",
   "metadata": {},
   "outputs": [
    {
     "data": {
      "text/plain": [
       "['kurdish (kurmanji)']"
      ]
     },
     "execution_count": 53,
     "metadata": {},
     "output_type": "execute_result"
    }
   ],
   "source": [
    "[i for i in laFull if 'kurdish' in i ]"
   ]
  },
  {
   "cell_type": "code",
   "execution_count": 49,
   "id": "cbae4106",
   "metadata": {},
   "outputs": [
    {
     "data": {
      "text/plain": [
       "'hi'"
      ]
     },
     "execution_count": 49,
     "metadata": {},
     "output_type": "execute_result"
    }
   ],
   "source": [
    "laShort[38]"
   ]
  },
  {
   "cell_type": "code",
   "execution_count": 30,
   "id": "ad6cfa64",
   "metadata": {},
   "outputs": [
    {
     "data": {
      "text/plain": [
       "['afrikaans',\n",
       " 'albanian',\n",
       " 'amharic',\n",
       " 'arabic',\n",
       " 'armenian',\n",
       " 'azerbaijani',\n",
       " 'basque',\n",
       " 'belarusian',\n",
       " 'bengali',\n",
       " 'bosnian',\n",
       " 'bulgarian',\n",
       " 'catalan',\n",
       " 'cebuano',\n",
       " 'chichewa',\n",
       " 'chinese (simplified)',\n",
       " 'chinese (traditional)',\n",
       " 'corsican',\n",
       " 'croatian',\n",
       " 'czech',\n",
       " 'danish',\n",
       " 'dutch',\n",
       " 'english',\n",
       " 'esperanto',\n",
       " 'estonian',\n",
       " 'filipino',\n",
       " 'finnish',\n",
       " 'french',\n",
       " 'frisian',\n",
       " 'galician',\n",
       " 'georgian',\n",
       " 'german',\n",
       " 'greek',\n",
       " 'gujarati',\n",
       " 'haitian creole',\n",
       " 'hausa',\n",
       " 'hawaiian',\n",
       " 'hebrew',\n",
       " 'hebrew',\n",
       " 'hindi',\n",
       " 'hmong',\n",
       " 'hungarian',\n",
       " 'icelandic',\n",
       " 'igbo',\n",
       " 'indonesian',\n",
       " 'irish',\n",
       " 'italian',\n",
       " 'japanese',\n",
       " 'javanese',\n",
       " 'kannada',\n",
       " 'kazakh',\n",
       " 'khmer',\n",
       " 'korean',\n",
       " 'kurdish (kurmanji)',\n",
       " 'kyrgyz',\n",
       " 'lao',\n",
       " 'latin',\n",
       " 'latvian',\n",
       " 'lithuanian',\n",
       " 'luxembourgish',\n",
       " 'macedonian',\n",
       " 'malagasy',\n",
       " 'malay',\n",
       " 'malayalam',\n",
       " 'maltese',\n",
       " 'maori',\n",
       " 'marathi',\n",
       " 'mongolian',\n",
       " 'myanmar (burmese)',\n",
       " 'nepali',\n",
       " 'norwegian',\n",
       " 'odia',\n",
       " 'pashto',\n",
       " 'persian',\n",
       " 'polish',\n",
       " 'portuguese',\n",
       " 'punjabi',\n",
       " 'romanian',\n",
       " 'russian',\n",
       " 'samoan',\n",
       " 'scots gaelic',\n",
       " 'serbian',\n",
       " 'sesotho',\n",
       " 'shona',\n",
       " 'sindhi',\n",
       " 'sinhala',\n",
       " 'slovak',\n",
       " 'slovenian',\n",
       " 'somali',\n",
       " 'spanish',\n",
       " 'sundanese',\n",
       " 'swahili',\n",
       " 'swedish',\n",
       " 'tajik',\n",
       " 'tamil',\n",
       " 'telugu',\n",
       " 'thai',\n",
       " 'turkish',\n",
       " 'ukrainian',\n",
       " 'urdu',\n",
       " 'uyghur',\n",
       " 'uzbek',\n",
       " 'vietnamese',\n",
       " 'welsh',\n",
       " 'xhosa',\n",
       " 'yiddish',\n",
       " 'yoruba',\n",
       " 'zulu']"
      ]
     },
     "execution_count": 30,
     "metadata": {},
     "output_type": "execute_result"
    }
   ],
   "source": [
    "list(langData['LanguageName'])"
   ]
  },
  {
   "cell_type": "code",
   "execution_count": 16,
   "id": "10b07ce5",
   "metadata": {},
   "outputs": [
    {
     "data": {
      "text/plain": [
       "(107, 2)"
      ]
     },
     "execution_count": 16,
     "metadata": {},
     "output_type": "execute_result"
    }
   ],
   "source": [
    "langData.shape"
   ]
  },
  {
   "cell_type": "code",
   "execution_count": 15,
   "id": "dcbe55c2",
   "metadata": {},
   "outputs": [
    {
     "data": {
      "text/plain": [
       "107"
      ]
     },
     "execution_count": 15,
     "metadata": {},
     "output_type": "execute_result"
    }
   ],
   "source": [
    "len(dict(langData.values))"
   ]
  },
  {
   "cell_type": "code",
   "execution_count": 18,
   "id": "6269c54f",
   "metadata": {},
   "outputs": [
    {
     "ename": "KeyError",
     "evalue": "0",
     "output_type": "error",
     "traceback": [
      "\u001b[1;31m---------------------------------------------------------------------------\u001b[0m",
      "\u001b[1;31mKeyError\u001b[0m                                  Traceback (most recent call last)",
      "Input \u001b[1;32mIn [18]\u001b[0m, in \u001b[0;36m<cell line: 3>\u001b[1;34m()\u001b[0m\n\u001b[0;32m      2\u001b[0m lenDict \u001b[38;5;241m=\u001b[39m \u001b[38;5;28mlen\u001b[39m(\u001b[38;5;28mdict\u001b[39m(langData\u001b[38;5;241m.\u001b[39mvalues))\n\u001b[0;32m      3\u001b[0m \u001b[38;5;28;01mfor\u001b[39;00m i \u001b[38;5;129;01min\u001b[39;00m \u001b[38;5;28mrange\u001b[39m(lenDict):\n\u001b[1;32m----> 4\u001b[0m     \u001b[38;5;28mprint\u001b[39m(\u001b[43mlangdict\u001b[49m\u001b[43m[\u001b[49m\u001b[43mi\u001b[49m\u001b[43m]\u001b[49m)\n",
      "\u001b[1;31mKeyError\u001b[0m: 0"
     ]
    }
   ],
   "source": [
    "langdict = dict(langData.values)\n",
    "lenDict = len(dict(langData.values))\n",
    "for i in range(lenDict):\n",
    "    print(langdict[i])"
   ]
  },
  {
   "cell_type": "code",
   "execution_count": 26,
   "id": "b6f7cb55",
   "metadata": {},
   "outputs": [],
   "source": [
    "finalLangDict = {}\n",
    "cnt = 1\n",
    "langdict = dict(langData.values)\n",
    "for x, y in langdict.items():\n",
    "    a1 = {'ShortName':x, 'LanguageName':y}\n",
    "    finalLangDict[cnt] = a1\n",
    "    cnt+=1"
   ]
  },
  {
   "cell_type": "code",
   "execution_count": 27,
   "id": "b8bc7178",
   "metadata": {},
   "outputs": [
    {
     "data": {
      "text/plain": [
       "{1: {'ShortName': 'af', 'LanguageName': 'afrikaans'},\n",
       " 2: {'ShortName': 'sq', 'LanguageName': 'albanian'},\n",
       " 3: {'ShortName': 'am', 'LanguageName': 'amharic'},\n",
       " 4: {'ShortName': 'ar', 'LanguageName': 'arabic'},\n",
       " 5: {'ShortName': 'hy', 'LanguageName': 'armenian'},\n",
       " 6: {'ShortName': 'az', 'LanguageName': 'azerbaijani'},\n",
       " 7: {'ShortName': 'eu', 'LanguageName': 'basque'},\n",
       " 8: {'ShortName': 'be', 'LanguageName': 'belarusian'},\n",
       " 9: {'ShortName': 'bn', 'LanguageName': 'bengali'},\n",
       " 10: {'ShortName': 'bs', 'LanguageName': 'bosnian'},\n",
       " 11: {'ShortName': 'bg', 'LanguageName': 'bulgarian'},\n",
       " 12: {'ShortName': 'ca', 'LanguageName': 'catalan'},\n",
       " 13: {'ShortName': 'ceb', 'LanguageName': 'cebuano'},\n",
       " 14: {'ShortName': 'ny', 'LanguageName': 'chichewa'},\n",
       " 15: {'ShortName': 'zh-cn', 'LanguageName': 'chinese (simplified)'},\n",
       " 16: {'ShortName': 'zh-tw', 'LanguageName': 'chinese (traditional)'},\n",
       " 17: {'ShortName': 'co', 'LanguageName': 'corsican'},\n",
       " 18: {'ShortName': 'hr', 'LanguageName': 'croatian'},\n",
       " 19: {'ShortName': 'cs', 'LanguageName': 'czech'},\n",
       " 20: {'ShortName': 'da', 'LanguageName': 'danish'},\n",
       " 21: {'ShortName': 'nl', 'LanguageName': 'dutch'},\n",
       " 22: {'ShortName': 'en', 'LanguageName': 'english'},\n",
       " 23: {'ShortName': 'eo', 'LanguageName': 'esperanto'},\n",
       " 24: {'ShortName': 'et', 'LanguageName': 'estonian'},\n",
       " 25: {'ShortName': 'tl', 'LanguageName': 'filipino'},\n",
       " 26: {'ShortName': 'fi', 'LanguageName': 'finnish'},\n",
       " 27: {'ShortName': 'fr', 'LanguageName': 'french'},\n",
       " 28: {'ShortName': 'fy', 'LanguageName': 'frisian'},\n",
       " 29: {'ShortName': 'gl', 'LanguageName': 'galician'},\n",
       " 30: {'ShortName': 'ka', 'LanguageName': 'georgian'},\n",
       " 31: {'ShortName': 'de', 'LanguageName': 'german'},\n",
       " 32: {'ShortName': 'el', 'LanguageName': 'greek'},\n",
       " 33: {'ShortName': 'gu', 'LanguageName': 'gujarati'},\n",
       " 34: {'ShortName': 'ht', 'LanguageName': 'haitian creole'},\n",
       " 35: {'ShortName': 'ha', 'LanguageName': 'hausa'},\n",
       " 36: {'ShortName': 'haw', 'LanguageName': 'hawaiian'},\n",
       " 37: {'ShortName': 'iw', 'LanguageName': 'hebrew'},\n",
       " 38: {'ShortName': 'he', 'LanguageName': 'hebrew'},\n",
       " 39: {'ShortName': 'hi', 'LanguageName': 'hindi'},\n",
       " 40: {'ShortName': 'hmn', 'LanguageName': 'hmong'},\n",
       " 41: {'ShortName': 'hu', 'LanguageName': 'hungarian'},\n",
       " 42: {'ShortName': 'is', 'LanguageName': 'icelandic'},\n",
       " 43: {'ShortName': 'ig', 'LanguageName': 'igbo'},\n",
       " 44: {'ShortName': 'id', 'LanguageName': 'indonesian'},\n",
       " 45: {'ShortName': 'ga', 'LanguageName': 'irish'},\n",
       " 46: {'ShortName': 'it', 'LanguageName': 'italian'},\n",
       " 47: {'ShortName': 'ja', 'LanguageName': 'japanese'},\n",
       " 48: {'ShortName': 'jw', 'LanguageName': 'javanese'},\n",
       " 49: {'ShortName': 'kn', 'LanguageName': 'kannada'},\n",
       " 50: {'ShortName': 'kk', 'LanguageName': 'kazakh'},\n",
       " 51: {'ShortName': 'km', 'LanguageName': 'khmer'},\n",
       " 52: {'ShortName': 'ko', 'LanguageName': 'korean'},\n",
       " 53: {'ShortName': 'ku', 'LanguageName': 'kurdish (kurmanji)'},\n",
       " 54: {'ShortName': 'ky', 'LanguageName': 'kyrgyz'},\n",
       " 55: {'ShortName': 'lo', 'LanguageName': 'lao'},\n",
       " 56: {'ShortName': 'la', 'LanguageName': 'latin'},\n",
       " 57: {'ShortName': 'lv', 'LanguageName': 'latvian'},\n",
       " 58: {'ShortName': 'lt', 'LanguageName': 'lithuanian'},\n",
       " 59: {'ShortName': 'lb', 'LanguageName': 'luxembourgish'},\n",
       " 60: {'ShortName': 'mk', 'LanguageName': 'macedonian'},\n",
       " 61: {'ShortName': 'mg', 'LanguageName': 'malagasy'},\n",
       " 62: {'ShortName': 'ms', 'LanguageName': 'malay'},\n",
       " 63: {'ShortName': 'ml', 'LanguageName': 'malayalam'},\n",
       " 64: {'ShortName': 'mt', 'LanguageName': 'maltese'},\n",
       " 65: {'ShortName': 'mi', 'LanguageName': 'maori'},\n",
       " 66: {'ShortName': 'mr', 'LanguageName': 'marathi'},\n",
       " 67: {'ShortName': 'mn', 'LanguageName': 'mongolian'},\n",
       " 68: {'ShortName': 'my', 'LanguageName': 'myanmar (burmese)'},\n",
       " 69: {'ShortName': 'ne', 'LanguageName': 'nepali'},\n",
       " 70: {'ShortName': 'no', 'LanguageName': 'norwegian'},\n",
       " 71: {'ShortName': 'or', 'LanguageName': 'odia'},\n",
       " 72: {'ShortName': 'ps', 'LanguageName': 'pashto'},\n",
       " 73: {'ShortName': 'fa', 'LanguageName': 'persian'},\n",
       " 74: {'ShortName': 'pl', 'LanguageName': 'polish'},\n",
       " 75: {'ShortName': 'pt', 'LanguageName': 'portuguese'},\n",
       " 76: {'ShortName': 'pa', 'LanguageName': 'punjabi'},\n",
       " 77: {'ShortName': 'ro', 'LanguageName': 'romanian'},\n",
       " 78: {'ShortName': 'ru', 'LanguageName': 'russian'},\n",
       " 79: {'ShortName': 'sm', 'LanguageName': 'samoan'},\n",
       " 80: {'ShortName': 'gd', 'LanguageName': 'scots gaelic'},\n",
       " 81: {'ShortName': 'sr', 'LanguageName': 'serbian'},\n",
       " 82: {'ShortName': 'st', 'LanguageName': 'sesotho'},\n",
       " 83: {'ShortName': 'sn', 'LanguageName': 'shona'},\n",
       " 84: {'ShortName': 'sd', 'LanguageName': 'sindhi'},\n",
       " 85: {'ShortName': 'si', 'LanguageName': 'sinhala'},\n",
       " 86: {'ShortName': 'sk', 'LanguageName': 'slovak'},\n",
       " 87: {'ShortName': 'sl', 'LanguageName': 'slovenian'},\n",
       " 88: {'ShortName': 'so', 'LanguageName': 'somali'},\n",
       " 89: {'ShortName': 'es', 'LanguageName': 'spanish'},\n",
       " 90: {'ShortName': 'su', 'LanguageName': 'sundanese'},\n",
       " 91: {'ShortName': 'sw', 'LanguageName': 'swahili'},\n",
       " 92: {'ShortName': 'sv', 'LanguageName': 'swedish'},\n",
       " 93: {'ShortName': 'tg', 'LanguageName': 'tajik'},\n",
       " 94: {'ShortName': 'ta', 'LanguageName': 'tamil'},\n",
       " 95: {'ShortName': 'te', 'LanguageName': 'telugu'},\n",
       " 96: {'ShortName': 'th', 'LanguageName': 'thai'},\n",
       " 97: {'ShortName': 'tr', 'LanguageName': 'turkish'},\n",
       " 98: {'ShortName': 'uk', 'LanguageName': 'ukrainian'},\n",
       " 99: {'ShortName': 'ur', 'LanguageName': 'urdu'},\n",
       " 100: {'ShortName': 'ug', 'LanguageName': 'uyghur'},\n",
       " 101: {'ShortName': 'uz', 'LanguageName': 'uzbek'},\n",
       " 102: {'ShortName': 'vi', 'LanguageName': 'vietnamese'},\n",
       " 103: {'ShortName': 'cy', 'LanguageName': 'welsh'},\n",
       " 104: {'ShortName': 'xh', 'LanguageName': 'xhosa'},\n",
       " 105: {'ShortName': 'yi', 'LanguageName': 'yiddish'},\n",
       " 106: {'ShortName': 'yo', 'LanguageName': 'yoruba'},\n",
       " 107: {'ShortName': 'zu', 'LanguageName': 'zulu'}}"
      ]
     },
     "execution_count": 27,
     "metadata": {},
     "output_type": "execute_result"
    }
   ],
   "source": [
    "finalLangDict"
   ]
  },
  {
   "cell_type": "code",
   "execution_count": null,
   "id": "97add221",
   "metadata": {},
   "outputs": [],
   "source": []
  }
 ],
 "metadata": {
  "kernelspec": {
   "display_name": "Python 3 (ipykernel)",
   "language": "python",
   "name": "python3"
  },
  "language_info": {
   "codemirror_mode": {
    "name": "ipython",
    "version": 3
   },
   "file_extension": ".py",
   "mimetype": "text/x-python",
   "name": "python",
   "nbconvert_exporter": "python",
   "pygments_lexer": "ipython3",
   "version": "3.8.10"
  }
 },
 "nbformat": 4,
 "nbformat_minor": 5
}
